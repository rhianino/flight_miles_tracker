{
 "metadata": {
  "name": "",
  "signature": "sha256:4c65c1940057298754f35a766de96dac5c0c5c6cf2a15524f20df8825d146b09"
 },
 "nbformat": 3,
 "nbformat_minor": 0,
 "worksheets": []
}
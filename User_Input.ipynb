{
 "metadata": {
  "name": "",
  "signature": "sha256:f56e40c0de627752061a2c85b502a917bdb1abcf50b0d72c745fc8563c48a04c"
 },
 "nbformat": 3,
 "nbformat_minor": 0,
 "worksheets": [
  {
   "cells": [
    {
     "cell_type": "code",
     "collapsed": false,
     "input": [
      "no_flights_string = raw_input('Type the number of flights flown in a year:')\n",
      "no_flights = int(no_flights_string)\n",
      "assert no_flights > 0, \"You have not flown any flights!\"\n",
      "assert no_flights < 1000, \"Number of flights must be an integer!\"\n",
      "flight = 1\n",
      "\n",
      "while no_flights != 0:\n",
      "    origin_destination_airports = raw_input(\"Please enter the origin and destination airports (separated by a comma) for flight number \"+str(flight)+\".\").split(',')\n",
      "    assert len(origin_destination_airports) == 2, 'This entry should be made of 2 airport names (strings), separated by comma!'\n",
      "    #assert type(origin_destination_airports) == <type 'list'>, \"This entry should be made of 2 airport names (strings), separated by comma!: %r\" % origin_destination_airports\n",
      "    stopover_airports = raw_input(\"Please enter all stopover airports (separated by a comma) for flight number \"+str(flight)+\". If it was a direct flight (with no stopovers), please press number 0:\").split(',')\n",
      "    #assert type(stopover_airports) == <type 'list'>, \"This entry should be made of all airport stopovers (as strings), separated by comma!: %r\" % stopover_airports\n",
      "    if str(stopover_airports[0]) == '0':\n",
      "        print 'DIRECT FLIGHT!'                             #The code for calculating distance between aiports should go here\n",
      "    \n",
      "    if str(stopover_airports[0]) != '0':\n",
      "        no_flight_legs=len(stopover_airports)+1          #The number of flights between stopover airports is the no_airports plus one!\n",
      "        flight_leg = 1\n",
      "        while no_flight_legs != 0:\n",
      "            \n",
      "                              #The code for calculating distance between aiports should go here\n",
      "            if flight_leg == 1: print 'Distance for flight number '+str(flight)+', flight leg '+str(flight_leg)+', between '+origin_destination_airports[0]+' and '+stopover_airports[flight_leg-1]+' is '# + str(distance_between_aiports) This should show distance between individual airports \n",
      "            if flight_leg > 1 and flight_leg == len(stopover_airports)+1: print 'Distance for flight number '+str(flight)+', flight leg '+str(flight_leg)+', between '+stopover_airports[flight_leg-2]+' and '+origin_destination_airports[1]+' is '# + str(distance_between_aiports) This should show distance between individual airports \n",
      "            if flight_leg > 1 and flight_leg < len(stopover_airports)+1: print 'Distance for flight number '+str(flight)+', flight leg '+str(flight_leg)+', between '+stopover_airports[flight_leg-2]+' and '+stopover_airports[flight_leg-1]+' is '# + str(distance_between_aiports) This should show distance between individual airports \n",
      "            flight_leg = flight_leg + 1\n",
      "            no_flight_legs = no_flight_legs - 1\n",
      "    print 'Total distance for flight number '+str(flight)+' is ' #str(Total) This should show distance flown for the whole flight trip (sum of all flights between all stopovers)\n",
      "    flight = flight + 1\n",
      "    no_flights = no_flights - 1\n",
      "print 'The total distance flown in a year is ' #str(total_distance) This should be the sum of all the flights"
     ],
     "language": "python",
     "metadata": {},
     "outputs": [
      {
       "name": "stdout",
       "output_type": "stream",
       "stream": "stdout",
       "text": [
        "Type the number of flights flown in a year:3\n"
       ]
      },
      {
       "name": "stdout",
       "output_type": "stream",
       "stream": "stdout",
       "text": [
        "Please enter the origin and destination airports (separated by a comma) for flight number 1.prg,jf\n"
       ]
      }
     ]
    },
    {
     "cell_type": "code",
     "collapsed": false,
     "input": [
      "print str(flight_leg)\n",
      "print len(stopover_airports)"
     ],
     "language": "python",
     "metadata": {},
     "outputs": [
      {
       "output_type": "stream",
       "stream": "stdout",
       "text": [
        "2\n",
        "1\n"
       ]
      }
     ],
     "prompt_number": 3
    },
    {
     "cell_type": "code",
     "collapsed": false,
     "input": [],
     "language": "python",
     "metadata": {},
     "outputs": []
    }
   ],
   "metadata": {}
  }
 ]
}